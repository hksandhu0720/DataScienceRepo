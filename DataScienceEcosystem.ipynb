{
 "cells": [
  {
   "cell_type": "markdown",
   "id": "2332b1fa-2d0c-42dc-bfcb-5bf92a1b6e75",
   "metadata": {},
   "source": [
    "# H1 : Data Science Tools and Ecosystem\n"
   ]
  },
  {
   "cell_type": "markdown",
   "id": "49a5e3a8-2dec-45a9-9132-b24149fe52dc",
   "metadata": {},
   "source": [
    "In this Notebook, Data Science Tools and Ecosystem are summarized.\n"
   ]
  },
  {
   "cell_type": "markdown",
   "id": "2560482d-cf33-400e-a12d-25cbe4fc4de6",
   "metadata": {},
   "source": [
    "Some of the  popular languages that Data Scientists use are:\n",
    "\n",
    "1. Python\n",
    "2. R\n",
    "3. Scala\n",
    "4. SQL"
   ]
  },
  {
   "cell_type": "markdown",
   "id": "45745a15-c2a6-43ea-bd71-ffd646bdfcb3",
   "metadata": {},
   "source": [
    "Some of the commonly used libraries used by Data Scientists inlcude: \n",
    "\n",
    "1. Tensorflow\n",
    "2. Pandas\n",
    "3. NumPy\n",
    "4. SciPy"
   ]
  },
  {
   "cell_type": "markdown",
   "id": "b0f62ce7-f0ba-4ae5-82ae-bddb716a4497",
   "metadata": {},
   "source": [
    "| Data Science Tools |\n",
    "|:--------:|\n",
    "|  Apache Spark   |\n",
    "|  KNIME   |  \n",
    "|  Apache Hadoop   |  "
   ]
  },
  {
   "cell_type": "markdown",
   "id": "7acbb4ff-0fc5-4127-93f2-d8b13cbb4b40",
   "metadata": {},
   "source": [
    "# H3 : Below are a few examples of evaluating arithmetic expressions in Python : \n",
    " 1. a + b = c      Addition\n",
    " 2. a - b = c      Subtraction\n",
    " 3. a * b = c      Multiplication\n",
    " 4. a / b = c      Division"
   ]
  },
  {
   "cell_type": "code",
   "execution_count": 1,
   "id": "e0df1299-87e1-4a2d-8ad4-a378f3b87ba1",
   "metadata": {},
   "outputs": [
    {
     "name": "stdout",
     "output_type": "stream",
     "text": [
      "17\n"
     ]
    }
   ],
   "source": [
    "a = 3\n",
    "b = 4\n",
    "c = a*b\n",
    "d = c+5\n",
    "print(d)"
   ]
  },
  {
   "cell_type": "code",
   "execution_count": 2,
   "id": "6d3633f7-9f0e-4dd8-8cec-b18148ea4a51",
   "metadata": {},
   "outputs": [
    {
     "name": "stdout",
     "output_type": "stream",
     "text": [
      "3.3333333333333335\n"
     ]
    }
   ],
   "source": [
    "# code to convert minutes into hours.\n",
    "a = 200\n",
    "\n",
    "# This will convert 200 minutes to hours by dividing by 60\n",
    "b = a/60\n",
    "\n",
    "print(b)"
   ]
  },
  {
   "cell_type": "markdown",
   "id": "2f32e867-78a4-44e1-a5a4-f4393e8b505c",
   "metadata": {},
   "source": [
    "### Objectives: \n",
    "\n",
    "- List popular languages for Data Science\n",
    "- List languages used in Data Science\n",
    "- List some open source Data Science Tools\n",
    "- Give examples some arithmetic operations\n",
    "- Create a code cell to multiply and add numbers\n",
    "- Create a code cell to convert minutes into hours"
   ]
  },
  {
   "cell_type": "markdown",
   "id": "6de3b5cb-9d1f-4e92-988e-c234373b7791",
   "metadata": {},
   "source": [
    "# Author\n",
    "Harkarandeep Singh"
   ]
  }
 ],
 "metadata": {
  "kernelspec": {
   "display_name": "Python 3 (ipykernel)",
   "language": "python",
   "name": "python3"
  },
  "language_info": {
   "codemirror_mode": {
    "name": "ipython",
    "version": 3
   },
   "file_extension": ".py",
   "mimetype": "text/x-python",
   "name": "python",
   "nbconvert_exporter": "python",
   "pygments_lexer": "ipython3",
   "version": "3.10.9"
  }
 },
 "nbformat": 4,
 "nbformat_minor": 5
}
